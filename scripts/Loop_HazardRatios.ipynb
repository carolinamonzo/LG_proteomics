{
 "cells": [
  {
   "cell_type": "code",
   "execution_count": 112,
   "metadata": {},
   "outputs": [],
   "source": [
    "list_variables = [\"cphSDRT\", \"cphSDTH\", \"cphSDRC\", \"cphSDTL\", \"cphSDRI\", \"cphRTHRint\", \n",
    "                  \"cphRTTH\", \"cphRTRC\", \"cphRTTL\", \"cphRTST\"]\n",
    "for e in list_variables:\n",
    "    if e in globals():\n",
    "        continue\n",
    "    else:\n",
    "        print(\"We don't have all Hazard ratios yet\")"
   ]
  },
  {
   "cell_type": "code",
   "execution_count": 123,
   "metadata": {},
   "outputs": [
    {
     "data": {
      "text/html": [
       "<div>\n",
       "<style scoped>\n",
       "    .dataframe tbody tr th:only-of-type {\n",
       "        vertical-align: middle;\n",
       "    }\n",
       "\n",
       "    .dataframe tbody tr th {\n",
       "        vertical-align: top;\n",
       "    }\n",
       "\n",
       "    .dataframe thead th {\n",
       "        text-align: right;\n",
       "    }\n",
       "</style>\n",
       "<table border=\"1\" class=\"dataframe\">\n",
       "  <thead>\n",
       "    <tr style=\"text-align: right;\">\n",
       "      <th></th>\n",
       "      <th>coef</th>\n",
       "      <th>exp(coef)</th>\n",
       "      <th>se(coef)</th>\n",
       "      <th>coef lower 95%</th>\n",
       "      <th>coef upper 95%</th>\n",
       "      <th>exp(coef) lower 95%</th>\n",
       "      <th>exp(coef) upper 95%</th>\n",
       "      <th>z</th>\n",
       "      <th>p</th>\n",
       "      <th>-log2(p)</th>\n",
       "    </tr>\n",
       "  </thead>\n",
       "  <tbody>\n",
       "    <tr>\n",
       "      <td>cage</td>\n",
       "      <td>0.000297</td>\n",
       "      <td>1.000297</td>\n",
       "      <td>0.000298</td>\n",
       "      <td>-0.000287</td>\n",
       "      <td>0.000881</td>\n",
       "      <td>0.999713</td>\n",
       "      <td>1.000881</td>\n",
       "      <td>0.996247</td>\n",
       "      <td>3.191302e-01</td>\n",
       "      <td>1.647783</td>\n",
       "    </tr>\n",
       "    <tr>\n",
       "      <td>group_1</td>\n",
       "      <td>1.122070</td>\n",
       "      <td>3.071205</td>\n",
       "      <td>0.181397</td>\n",
       "      <td>0.766539</td>\n",
       "      <td>1.477601</td>\n",
       "      <td>2.152304</td>\n",
       "      <td>4.382419</td>\n",
       "      <td>6.185725</td>\n",
       "      <td>6.181754e-10</td>\n",
       "      <td>30.591265</td>\n",
       "    </tr>\n",
       "  </tbody>\n",
       "</table>\n",
       "</div>"
      ],
      "text/plain": [
       "             coef  exp(coef)  se(coef)  coef lower 95%  coef upper 95%  \\\n",
       "cage     0.000297   1.000297  0.000298       -0.000287        0.000881   \n",
       "group_1  1.122070   3.071205  0.181397        0.766539        1.477601   \n",
       "\n",
       "         exp(coef) lower 95%  exp(coef) upper 95%         z             p  \\\n",
       "cage                0.999713             1.000881  0.996247  3.191302e-01   \n",
       "group_1             2.152304             4.382419  6.185725  6.181754e-10   \n",
       "\n",
       "          -log2(p)  \n",
       "cage      1.647783  \n",
       "group_1  30.591265  "
      ]
     },
     "metadata": {},
     "output_type": "display_data"
    }
   ],
   "source": [
    "display(cphRTST.summary)"
   ]
  },
  {
   "cell_type": "code",
   "execution_count": 124,
   "metadata": {},
   "outputs": [
    {
     "data": {
      "text/html": [
       "<div>\n",
       "<style scoped>\n",
       "    .dataframe tbody tr th:only-of-type {\n",
       "        vertical-align: middle;\n",
       "    }\n",
       "\n",
       "    .dataframe tbody tr th {\n",
       "        vertical-align: top;\n",
       "    }\n",
       "\n",
       "    .dataframe thead th {\n",
       "        text-align: right;\n",
       "    }\n",
       "</style>\n",
       "<table border=\"1\" class=\"dataframe\">\n",
       "  <thead>\n",
       "    <tr style=\"text-align: right;\">\n",
       "      <th></th>\n",
       "      <th>comparison</th>\n",
       "      <th>lowerCI</th>\n",
       "      <th>upperCI</th>\n",
       "      <th>coef</th>\n",
       "      <th>p-value</th>\n",
       "    </tr>\n",
       "  </thead>\n",
       "  <tbody>\n",
       "    <tr>\n",
       "      <td>0</td>\n",
       "      <td>Rapa/Tram_high</td>\n",
       "      <td>-1.477601</td>\n",
       "      <td>-0.766539</td>\n",
       "      <td>-1.122070</td>\n",
       "      <td>6.180000e-10</td>\n",
       "    </tr>\n",
       "    <tr>\n",
       "      <td>1</td>\n",
       "      <td>Trametinib_high</td>\n",
       "      <td>-0.901640</td>\n",
       "      <td>-0.266588</td>\n",
       "      <td>-0.584114</td>\n",
       "      <td>3.120000e-04</td>\n",
       "    </tr>\n",
       "    <tr>\n",
       "      <td>2</td>\n",
       "      <td>Rapamycin_continuous</td>\n",
       "      <td>-1.387052</td>\n",
       "      <td>-0.681373</td>\n",
       "      <td>-1.034213</td>\n",
       "      <td>9.000000e-09</td>\n",
       "    </tr>\n",
       "    <tr>\n",
       "      <td>3</td>\n",
       "      <td>Trametinib_low</td>\n",
       "      <td>-0.507309</td>\n",
       "      <td>0.109871</td>\n",
       "      <td>-0.198719</td>\n",
       "      <td>2.069010e-01</td>\n",
       "    </tr>\n",
       "    <tr>\n",
       "      <td>4</td>\n",
       "      <td>Rapamycin_intermittent</td>\n",
       "      <td>-0.985499</td>\n",
       "      <td>-0.347127</td>\n",
       "      <td>-0.666313</td>\n",
       "      <td>4.300000e-05</td>\n",
       "    </tr>\n",
       "  </tbody>\n",
       "</table>\n",
       "</div>"
      ],
      "text/plain": [
       "               comparison   lowerCI   upperCI      coef       p-value\n",
       "0          Rapa/Tram_high -1.477601 -0.766539 -1.122070  6.180000e-10\n",
       "1         Trametinib_high -0.901640 -0.266588 -0.584114  3.120000e-04\n",
       "2    Rapamycin_continuous -1.387052 -0.681373 -1.034213  9.000000e-09\n",
       "3          Trametinib_low -0.507309  0.109871 -0.198719  2.069010e-01\n",
       "4  Rapamycin_intermittent -0.985499 -0.347127 -0.666313  4.300000e-05"
      ]
     },
     "metadata": {},
     "output_type": "display_data"
    },
    {
     "data": {
      "text/html": [
       "<div>\n",
       "<style scoped>\n",
       "    .dataframe tbody tr th:only-of-type {\n",
       "        vertical-align: middle;\n",
       "    }\n",
       "\n",
       "    .dataframe tbody tr th {\n",
       "        vertical-align: top;\n",
       "    }\n",
       "\n",
       "    .dataframe thead th {\n",
       "        text-align: right;\n",
       "    }\n",
       "</style>\n",
       "<table border=\"1\" class=\"dataframe\">\n",
       "  <thead>\n",
       "    <tr style=\"text-align: right;\">\n",
       "      <th></th>\n",
       "      <th>comparison</th>\n",
       "      <th>lowerCI</th>\n",
       "      <th>upperCI</th>\n",
       "      <th>coef</th>\n",
       "      <th>p-value</th>\n",
       "    </tr>\n",
       "  </thead>\n",
       "  <tbody>\n",
       "    <tr>\n",
       "      <td>0</td>\n",
       "      <td>Rapamycin_intermittent</td>\n",
       "      <td>0.093371</td>\n",
       "      <td>0.768903</td>\n",
       "      <td>0.431137</td>\n",
       "      <td>1.235700e-02</td>\n",
       "    </tr>\n",
       "    <tr>\n",
       "      <td>1</td>\n",
       "      <td>Trametinib_high</td>\n",
       "      <td>0.289491</td>\n",
       "      <td>0.992467</td>\n",
       "      <td>0.640979</td>\n",
       "      <td>3.510000e-04</td>\n",
       "    </tr>\n",
       "    <tr>\n",
       "      <td>2</td>\n",
       "      <td>Rapamycin_continuous</td>\n",
       "      <td>-0.342454</td>\n",
       "      <td>0.375155</td>\n",
       "      <td>0.016351</td>\n",
       "      <td>9.288320e-01</td>\n",
       "    </tr>\n",
       "    <tr>\n",
       "      <td>3</td>\n",
       "      <td>Trametinib_low</td>\n",
       "      <td>0.664091</td>\n",
       "      <td>1.398100</td>\n",
       "      <td>1.031095</td>\n",
       "      <td>3.600000e-08</td>\n",
       "    </tr>\n",
       "    <tr>\n",
       "      <td>4</td>\n",
       "      <td>Standard</td>\n",
       "      <td>0.766539</td>\n",
       "      <td>1.477601</td>\n",
       "      <td>1.122070</td>\n",
       "      <td>6.000000e-10</td>\n",
       "    </tr>\n",
       "  </tbody>\n",
       "</table>\n",
       "</div>"
      ],
      "text/plain": [
       "               comparison   lowerCI   upperCI      coef       p-value\n",
       "0  Rapamycin_intermittent  0.093371  0.768903  0.431137  1.235700e-02\n",
       "1         Trametinib_high  0.289491  0.992467  0.640979  3.510000e-04\n",
       "2    Rapamycin_continuous -0.342454  0.375155  0.016351  9.288320e-01\n",
       "3          Trametinib_low  0.664091  1.398100  1.031095  3.600000e-08\n",
       "4                Standard  0.766539  1.477601  1.122070  6.000000e-10"
      ]
     },
     "metadata": {},
     "output_type": "display_data"
    },
    {
     "data": {
      "image/png": "[encoded data removed]",
      "text/plain": [
       "<Figure size 432x288 with 1 Axes>"
      ]
     },
     "metadata": {
      "needs_background": "light"
     },
     "output_type": "display_data"
    },
    {
     "data": {
      "image/png": "[encoded data removed]",
      "text/plain": [
       "<Figure size 432x288 with 1 Axes>"
      ]
     },
     "metadata": {
      "needs_background": "light"
     },
     "output_type": "display_data"
    }
   ],
   "source": [
    "# MALES\n",
    "al69dict = {\"comparison\" : [\"Rapa/Tram_high\", \"Trametinib_high\", \"Rapamycin_continuous\", \"Trametinib_low\", \"Rapamycin_intermittent\"], \n",
    "            \"lowerCI\" : [-1.477601, -0.901640, -1.387052, -0.507309, -0.985499], \n",
    "            \"upperCI\" : [-0.766539, -0.266588, -0.681373, 0.109871, -0.347127], \n",
    "            \"coef\": [-1.122070, -0.584114, -1.034213, -0.198719, -0.666313], \n",
    "           \"p-value\":[0.000000000618, 0.000312, 0.000000009, 0.206901, 0.000043]}\n",
    "al69df = pd.DataFrame.from_dict(al69dict, orient = \"columns\")\n",
    "plot_cumCPH(al69df, \"Standard\")\n",
    "display(al69df)\n",
    "\n",
    "al69dict = {\"comparison\" : [\"Rapamycin_intermittent\", \"Trametinib_high\", \"Rapamycin_continuous\", \"Trametinib_low\", \"Standard\"], \n",
    "            \"lowerCI\" : [0.093371, 0.289491, -0.342454, 0.664091, 0.766539], \n",
    "            \"upperCI\" : [0.768903, 0.992467, 0.375155, 1.398100, 1.477601], \n",
    "            \"coef\": [0.431137, 0.640979, 0.016351, 1.031095, 1.122070], \n",
    "           \"p-value\": [0.012357, 0.000351, 0.928832, 0.000000036, 0.0000000006]}\n",
    "al69df = pd.DataFrame.from_dict(al69dict, orient = \"columns\")\n",
    "plot_cumCPH(al69df, \"RapaTram_High\")\n",
    "display(al69df)"
   ]
  },
  {
   "cell_type": "code",
   "execution_count": null,
   "metadata": {},
   "outputs": [],
   "source": [
    "### FEMALES\n",
    "\n",
    "### NEW CORRECTED\n",
    "al69dict = {\"comparison\" : [\"Rapa/Tram_high\", \"Trametinib_high\", \"Rapamycin_continuous\", \"Trametinib_low\", \"Rapamycin_intermittent\"], \n",
    "            \"lowerCI\" : [-1.636872, -0.805394, -1.570706, -0.923990, -1.189824], \n",
    "            \"upperCI\" : [-0.822338, -0.030949, -0.773344, -0.188579, -0.428282], \n",
    "            \"coef\": [-1.229605, -0.418172, -1.172025, -0.556284, -0.809053], \n",
    "           \"p-value\":[0.0000000032, 0.034292, 0.0000000083, 0.003025, 0.000031]}\n",
    "al69df = pd.DataFrame.from_dict(al69dict, orient = \"columns\")\n",
    "plot_cumCPH(al69df, \"Standard\")\n",
    "display(al69df)\n",
    "\n",
    "al69dict = {\"comparison\" : [\"Rapamycin_intermittent\", \"Trametinib_high\", \"Rapamycin_continuous\", \"Trametinib_low\", \"Standard\"], \n",
    "            \"lowerCI\" : [-0.020546, 0.555741, -0.353544, 0.229072, 0.822338], \n",
    "            \"upperCI\" : [0.797115, 1.519198, 0.451195, 1.142873, 1.636872], \n",
    "            \"coef\": [0.388285, 1.037470, 0.048826, 0.685973, 1.229605], \n",
    "           \"p-value\": [0.062678, 0.000024, 0.812011, 0.003255, 0.0000000032]}\n",
    "al69df = pd.DataFrame.from_dict(al69dict, orient = \"columns\")\n",
    "plot_cumCPH(al69df, \"RapaTram_High\")\n",
    "display(al69df)"
   ]
  },
  {
   "cell_type": "code",
   "execution_count": 113,
   "metadata": {},
   "outputs": [],
   "source": [
    "def get_DF_cumCPH(list_df):\n",
    "    a = []\n",
    "    for e, c in list_df:\n",
    "        l = []\n",
    "        l.append(c)\n",
    "        t = pd.DataFrame(e.confidence_intervals_)\n",
    "        l.append(t.iloc[1:][\"95% lower-bound\"].values)\n",
    "        l.append(t.iloc[1:][\"95% upper-bound\"].values)\n",
    "        l.append(pd.DataFrame(e.params_).iloc[1:].values)\n",
    "        a.append(l)\n",
    "\n",
    "    dcph = pd.DataFrame(a, columns = [\"comparison\", \"lowerCI\", \"upperCI\", \"coef\"])\n",
    "    return(dcph)\n",
    "\n",
    "def plot_cumCPH(dcph, text):\n",
    "    fig, ax = plt.subplots(figsize = (6,4))\n",
    "    \n",
    "    if text == \"SD\":\n",
    "        co = ['#EBC69B', '#EBC69B', '#006ee6', '#7DF17B', '#EA8A86']\n",
    "    else:\n",
    "        co = ['#EA8A86', '#003c00', '#006ee6', '#7DF17B', '#949494']\n",
    "        \n",
    "    plt.scatter(x=dcph[\"coef\"].to_list(),y=dcph[\"comparison\"].to_list(), \n",
    "                color = co, \n",
    "                #color = \"red\",\n",
    "               marker = \"s\", s = 100)\n",
    "    plt.errorbar(x = dcph[\"coef\"].to_list(), y=dcph[\"comparison\"].to_list(), \n",
    "                 xerr=(dcph[\"lowerCI\"] - dcph[\"coef\"]).to_list(), linestyle='', \n",
    "                 #color = \"red\",\n",
    "                 color = co,\n",
    "                 elinewidth=3)\n",
    "\n",
    "\n",
    "    ax.set_xlabel(\"HR (s.e.)\", fontsize = 22)\n",
    "    ax.tick_params(axis = \"x\", labelsize=20)\n",
    "    ax.tick_params(axis = \"y\", labelsize=20)\n",
    "    plt.title(\"Hazard ratio rel. to {}\\n\".format(text), fontsize = 22)\n",
    "    plt.axvline(x=0,color='black', linestyle = \"--\")\n",
    "    ax.spines['right'].set_visible(False)\n",
    "    ax.spines['top'].set_visible(False)\n",
    "    matplotlib.rcParams['pdf.fonttype'] = 42\n",
    "    plt.tight_layout()\n",
    "\n",
    "    if run_type != \"dry\":\n",
    "        plt.savefig(\"{}cph_ALL-{}_{}_cens.svg\".format(path, text, new_day))\n",
    "        plt.savefig(\"{}cph_ALL-{}_{}_cens.pdf\".format(path, text, new_day))\n",
    "    else:\n",
    "        plt.show()"
   ]
  },
  {
   "cell_type": "code",
   "execution_count": null,
   "metadata": {},
   "outputs": [],
   "source": []
  },
  {
   "cell_type": "code",
   "execution_count": 90,
   "metadata": {},
   "outputs": [],
   "source": [
    "#study_sw = \"Rapa_Tram_high\"\n",
    "#study_sw = \"Rapamycin_intermittent\"\n",
    "#study_sw = \"Trametinib_high\"\n",
    "#study_sw = \"Rapamycin_continuous\"\n",
    "study_sw = \"Trametinib_low\""
   ]
  },
  {
   "cell_type": "code",
   "execution_count": 91,
   "metadata": {},
   "outputs": [],
   "source": [
    "#import lifelines\n",
    "import pandas as pd\n",
    "import matplotlib\n",
    "import matplotlib.pyplot as plt\n",
    "#from lifelines.utils import datetimes_to_durations\n",
    "#from lifelines.utils import survival_table_from_events\n",
    "from lifelines.statistics import multivariate_logrank_test\n",
    "from lifelines import CoxPHFitter\n",
    "from lifelines.statistics import pairwise_logrank_test\n",
    "import statsmodels.stats.multitest as multi\n",
    "import numpy as np\n",
    "import datetime\n",
    "from IPython.display import display\n",
    "\n",
    "plt.style.use(\"seaborn-paper\")\n",
    "\n",
    "new_day = datetime.datetime.now().strftime(\"%Y%m%d\")\n",
    "day = datetime.datetime.now().strftime(\"%d.%m.%Y\")\n",
    "\n",
    "path = \"../analysis/plots/\"\n",
    "cph_path = \"../analysis/plots/\"\n",
    "\n",
    "#run_type = \"dry\"\n",
    "run_type = \"wet\"\n",
    "\n",
    "#sex = \"f\"\n",
    "sex = \"m\"\n",
    "\n",
    "palette2 = {\"Standard\":\"#949494\", \"Rapamycin_intermittent\": \"#EA8A86\",\n",
    "            \"Rapa_Tram_high\":\"#EBC69B\", \"Trametinib_high\":\"#003c00\", \n",
    "            \"Rapamycin_continuous\":\"#006ee6\", \"Trametinib_low\":\"#7DF17B\"}\n",
    "\n",
    "res_file = \"results_{}_HRLoopLifespan_{}_{}.txt\".format(study_sw, sex, new_day)"
   ]
  },
  {
   "cell_type": "code",
   "execution_count": 92,
   "metadata": {},
   "outputs": [],
   "source": [
    "poo1 = pd.read_csv(\"../data/lifespan_drugs_LG.csv\", sep = \";\",\n",
    "                 index_col = \"ID\")\n",
    "poo1.columns = ['Cage', 'ID.1', 'Sex', 'Line', 'DOB', 'DOD', 'Reason_of_death',\n",
    "       'Age', 'Treatment', 'Unnamed: 10', 'Kommentare', 'Age_(wk)',\n",
    "       'Unnamed: 13', 'Unnamed: 14', 'Unnamed: 15', 'Unnamed: 16']\n",
    "poo1[\"event\"] = 1\n",
    "\n",
    "poo1[\"Treatment\"] = poo1[\"Treatment\"].replace(\"Rapa/Tram_high\", \"Rapa_Tram_high\")"
   ]
  },
  {
   "cell_type": "code",
   "execution_count": 93,
   "metadata": {},
   "outputs": [],
   "source": [
    "# Subset sex\n",
    "poo1 = poo1[poo1[\"Sex\"] == sex]\n",
    "# Drop rows of mice from other switches weeks switch\n",
    "\n",
    "if study_sw == \"Rapamycin_intermittent\":\n",
    "    poo = poo1[poo1[\"Treatment\"] != \"Trametinib_high\"]\n",
    "    poo = poo[poo[\"Treatment\"] != \"Trametinib_low\"]\n",
    "    poo = poo[poo[\"Treatment\"] != \"Rapamycin_continuous\"]\n",
    "elif study_sw == \"Rapa_Tram_high\":\n",
    "    poo = poo1[poo1[\"Treatment\"] != \"Trametinib_high\"]\n",
    "    poo = poo[poo[\"Treatment\"] != \"Rapamycin_continuous\"]\n",
    "    poo = poo[poo[\"Treatment\"] != \"Trametinib_low\"]\n",
    "    poo = poo[poo[\"Treatment\"] != \"Rapamycin_intermittent\"]\n",
    "elif study_sw == \"Trametinib_high\":\n",
    "    poo = poo1[poo1[\"Treatment\"] != \"Rapamycin_continuous\"]\n",
    "    poo = poo[poo[\"Treatment\"] != \"Trametinib_low\"]\n",
    "    poo = poo[poo[\"Treatment\"] != \"Rapamycin_intermittent\"]\n",
    "elif study_sw == \"Rapamycin_continuous\":\n",
    "    poo = poo1[poo1[\"Treatment\"] != \"Rapamycin_intermittent\"]\n",
    "    poo = poo[poo[\"Treatment\"] != \"Trametinib_high\"]\n",
    "    poo = poo[poo[\"Treatment\"] != \"Trametinib_low\"]\n",
    "elif study_sw == \"Trametinib_low\":\n",
    "    poo = poo1[poo1[\"Treatment\"] != \"Rapamycin_continuous\"]\n",
    "    poo = poo[poo[\"Treatment\"] != \"Trametinib_high\"]\n",
    "    poo = poo[poo[\"Treatment\"] != \"Rapamycin_intermittent\"]\n",
    "else:\n",
    "    print(\"ERROR: no switch selected\")\n",
    "    exit(1)"
   ]
  },
  {
   "cell_type": "code",
   "execution_count": 94,
   "metadata": {},
   "outputs": [],
   "source": [
    "string = f\"\\n\\n ===== COMPARISON Standard and RapaTram vs {study_sw}=====\"\n",
    "\n",
    "if run_type != \"dry\":\n",
    "    with open(\"{}{}\".format(\"./\", res_file), \"a\") as fi:\n",
    "        fi.write(string + \"\\n\\n\")\n",
    "else:\n",
    "    print(string)"
   ]
  },
  {
   "cell_type": "code",
   "execution_count": 95,
   "metadata": {},
   "outputs": [
    {
     "name": "stdout",
     "output_type": "stream",
     "text": [
      "\n",
      "\n",
      " ===== COMPARISON Standard and RapaTram vs Trametinib_low=====\n"
     ]
    }
   ],
   "source": [
    "print(string)"
   ]
  },
  {
   "cell_type": "code",
   "execution_count": 96,
   "metadata": {},
   "outputs": [],
   "source": [
    "string = \"Original animals:\\n{}\".format(poo[\"Treatment\"].value_counts())\n",
    "if run_type != \"dry\":\n",
    "    with open(\"{}{}\".format(\"./\", res_file), \"a\") as fi:\n",
    "        fi.write(string + \"\\n\\n\")\n",
    "else:\n",
    "    print(string)"
   ]
  },
  {
   "cell_type": "code",
   "execution_count": 97,
   "metadata": {},
   "outputs": [
    {
     "name": "stdout",
     "output_type": "stream",
     "text": [
      "Original animals:\n",
      "Standard          88\n",
      "Trametinib_low    78\n",
      "Rapa_Tram_high    63\n",
      "Name: Treatment, dtype: int64\n"
     ]
    }
   ],
   "source": [
    "print(string)"
   ]
  },
  {
   "cell_type": "code",
   "execution_count": 98,
   "metadata": {},
   "outputs": [],
   "source": [
    "# Make a event column if dead = 1 if not dead = 0\n",
    "poo.loc[:,\"event\"] = poo.loc[:,'DOD'].apply(lambda x: 0 if pd.isna(x) else 1)\n",
    "# Get the extent of the life of the mice so its numeric and easy to use\n",
    "\n",
    "poo.loc[:,\"DOB\"] = pd.to_datetime(poo.loc[:,\"DOB\"], dayfirst = True)\n",
    "poo.loc[:,\"DOD\"] = poo.loc[:,\"DOD\"].apply(lambda x: day if pd.isna(x) else x)\n",
    "poo.loc[:,'DOD'] = pd.to_datetime(poo.loc[:,'DOD'], dayfirst = True)\n",
    "#\n",
    "# If no value in date, put today plus 10 days\n",
    "poo.loc[:,'durations'] = (poo.loc[:,'DOD'] - poo.loc[:,'DOB']).dt.days"
   ]
  },
  {
   "cell_type": "code",
   "execution_count": 99,
   "metadata": {},
   "outputs": [],
   "source": [
    "string = \"Animals who died after the {} switch:\\n{}\".format(study_sw, poo[\"Treatment\"].value_counts())\n",
    "        \n",
    "if run_type != \"dry\":\n",
    "    with open(\"{}{}\".format(\"./\", res_file), \"a\") as fi:\n",
    "        fi.write(string + \"\\n\\n\")\n",
    "else:\n",
    "    print(string)"
   ]
  },
  {
   "cell_type": "code",
   "execution_count": 100,
   "metadata": {},
   "outputs": [
    {
     "name": "stdout",
     "output_type": "stream",
     "text": [
      "Animals who died after the Trametinib_low switch:\n",
      "Standard          88\n",
      "Trametinib_low    78\n",
      "Rapa_Tram_high    63\n",
      "Name: Treatment, dtype: int64\n"
     ]
    }
   ],
   "source": [
    "print(string)"
   ]
  },
  {
   "cell_type": "code",
   "execution_count": 101,
   "metadata": {},
   "outputs": [],
   "source": [
    "# Make a dataframe like events \n",
    "df = pd.DataFrame()\n",
    "df[\"id\"] = poo.index.values.tolist()\n",
    "#df[\"death\"] = list(poo.loc[:, \"Natural_death/_killed\"])\n",
    "df[\"durations\"] = list(poo.loc[:, \"Age\"])\n",
    "df[\"group\"] = list(poo.loc[:, \"Treatment\"])\n",
    "df[\"event\"] = list(poo.loc[:, \"event\"])\n",
    "df[\"cage\"] = list(poo.loc[:, \"Cage\"])"
   ]
  },
  {
   "cell_type": "code",
   "execution_count": 102,
   "metadata": {},
   "outputs": [
    {
     "data": {
      "text/plain": [
       "array(['Rapa_Tram_high', 'Standard', 'Trametinib_low'], dtype=object)"
      ]
     },
     "execution_count": 102,
     "metadata": {},
     "output_type": "execute_result"
    }
   ],
   "source": [
    "df[\"group\"].unique()"
   ]
  },
  {
   "cell_type": "code",
   "execution_count": 103,
   "metadata": {},
   "outputs": [],
   "source": [
    "string = \"Multivariate logrank test of lifespan durations per diet\"\n",
    "result2 = multivariate_logrank_test(df['durations'], df['group'], df['event'])\n",
    "\n",
    "if run_type != \"dry\":\n",
    "    with open(\"{}{}\".format(\"./\", res_file), \"a\") as fi:\n",
    "        fi.write(string + \"\\n\")\n",
    "        #fi.write(result2.print_summary())\n",
    "        fi.write(\"\\nP-value: {}\".format(result2.p_value) + \"\\n\\n\")\n",
    "else:\n",
    "    print(string)\n",
    "    result2.print_summary()\n",
    "    print(\"\\nP-value: {}\".format(result2.p_value))"
   ]
  },
  {
   "cell_type": "code",
   "execution_count": 104,
   "metadata": {},
   "outputs": [],
   "source": [
    "# Slice up the dataframe keeping only the switch\n",
    "al = df.loc[df['group'] == 'Standard']\n",
    "dr = df.loc[df['group'] == 'Rapa_Tram_high']\n",
    "if study_sw == \"Rapamycin_intermittent\":\n",
    "    sw = df.loc[df['group'] == 'Rapamycin_intermittent']\n",
    "elif study_sw == \"Trametinib_high\":\n",
    "    sw = df.loc[df['group'] == 'Trametinib_high']\n",
    "elif study_sw == \"Rapamycin_continuous\":\n",
    "    sw = df.loc[df['group'] == 'Rapamycin_continuous']\n",
    "elif study_sw == \"Trametinib_low\":\n",
    "    sw = df.loc[df['group'] == 'Trametinib_low']\n",
    "else:\n",
    "    sw = False"
   ]
  },
  {
   "cell_type": "markdown",
   "metadata": {},
   "source": [
    "Pairwise logrank test with full p-values\n",
    "Correcting for multiple testing using bonferroni"
   ]
  },
  {
   "cell_type": "code",
   "execution_count": 105,
   "metadata": {},
   "outputs": [],
   "source": [
    "string = \"Pairwise logrank test and bonferroni correction\"\n",
    "result2 = pairwise_logrank_test(event_durations = df['durations'], groups = df['group'], \n",
    "                                event_observed = df['event'])\n",
    "## Bonferroni correction\n",
    "bh = pd.DataFrame(result2.summary)\n",
    "bh = bh.sort_values(by=[\"p\"], ascending = True)\n",
    "\n",
    "a = multi.multipletests(list(bh[\"p\"]), alpha = 0.05, method = 'bonferroni',\n",
    "                   is_sorted = False, returnsorted = False)\n",
    "\n",
    "if run_type != \"dry\":\n",
    "    with open(\"{}{}\".format(\"./\", res_file), \"a\") as fi:\n",
    "        fi.write(string + \"\\n\")\n",
    "        fi.write(\"Array multipletests:\\n\")\n",
    "        np.savetxt(fi, a[0], delimiter=' ',newline=' ')\n",
    "        np.savetxt(fi, a[1], delimiter=' ',newline=' ')\n",
    "        fi.write(\"\\nFull p-values order:\\n\")\n",
    "        bh.to_string(fi)\n",
    "        fi.write(\"\\n\\n\")\n",
    "else:\n",
    "    print(string)\n",
    "    print(a)\n",
    "    display(bh)\n",
    "    string = \"Pairwise logrank test and bonferroni correction\"\n",
    "result2 = pairwise_logrank_test(event_durations = df['durations'], groups = df['group'], \n",
    "                                event_observed = df['event'])\n",
    "## Bonferroni correction\n",
    "bh = pd.DataFrame(result2.summary)\n",
    "bh = bh.sort_values(by=[\"p\"], ascending = True)\n",
    "\n",
    "a = multi.multipletests(list(bh[\"p\"]), alpha = 0.05, method = 'bonferroni',\n",
    "                   is_sorted = False, returnsorted = False)\n",
    "\n",
    "if run_type != \"dry\":\n",
    "    with open(\"{}{}\".format(\"./\", res_file), \"a\") as fi:\n",
    "        fi.write(string + \"\\n\")\n",
    "        fi.write(\"Array multipletests:\\n\")\n",
    "        np.savetxt(fi, a[0], delimiter=' ',newline=' ')\n",
    "        np.savetxt(fi, a[1], delimiter=' ',newline=' ')\n",
    "        fi.write(\"\\nFull p-values order:\\n\")\n",
    "        bh.to_string(fi)\n",
    "        fi.write(\"\\n\\n\")\n",
    "else:\n",
    "    print(string)\n",
    "    print(a)\n",
    "    display(bh)"
   ]
  },
  {
   "cell_type": "code",
   "execution_count": 106,
   "metadata": {},
   "outputs": [],
   "source": [
    "# Map to values\n",
    "# Converting groups into numeric values\n",
    "mapping = {'Standard': 1, 'Rapa_Tram_high': 2, 'Rapamycin_intermittent': 3, \"Trametinib_high\":4, \n",
    "           \"Rapamycin_continuous\":5, \"Trametinib_low\":6}\n",
    "\n",
    "df = df.applymap(lambda s: mapping.get(s) if s in mapping else s)\n",
    "df = df.set_index(\"id\")\n",
    "df['cage'] = df['cage'].map(lambda x: x.lstrip('STNES-'))"
   ]
  },
  {
   "cell_type": "code",
   "execution_count": 107,
   "metadata": {},
   "outputs": [
    {
     "data": {
      "text/html": [
       "<div>\n",
       "<style scoped>\n",
       "    .dataframe tbody tr th:only-of-type {\n",
       "        vertical-align: middle;\n",
       "    }\n",
       "\n",
       "    .dataframe tbody tr th {\n",
       "        vertical-align: top;\n",
       "    }\n",
       "\n",
       "    .dataframe thead th {\n",
       "        text-align: right;\n",
       "    }\n",
       "</style>\n",
       "<table border=\"1\" class=\"dataframe\">\n",
       "  <thead>\n",
       "    <tr style=\"text-align: right;\">\n",
       "      <th></th>\n",
       "      <th>durations</th>\n",
       "      <th>group</th>\n",
       "      <th>event</th>\n",
       "      <th>cage</th>\n",
       "    </tr>\n",
       "    <tr>\n",
       "      <th>id</th>\n",
       "      <th></th>\n",
       "      <th></th>\n",
       "      <th></th>\n",
       "      <th></th>\n",
       "    </tr>\n",
       "  </thead>\n",
       "  <tbody>\n",
       "    <tr>\n",
       "      <td>TNES-AH32</td>\n",
       "      <td>476</td>\n",
       "      <td>2</td>\n",
       "      <td>1</td>\n",
       "      <td>15904</td>\n",
       "    </tr>\n",
       "    <tr>\n",
       "      <td>TNES-Y422</td>\n",
       "      <td>636</td>\n",
       "      <td>2</td>\n",
       "      <td>1</td>\n",
       "      <td>14399</td>\n",
       "    </tr>\n",
       "    <tr>\n",
       "      <td>TNES-Y160</td>\n",
       "      <td>693</td>\n",
       "      <td>2</td>\n",
       "      <td>1</td>\n",
       "      <td>14320</td>\n",
       "    </tr>\n",
       "    <tr>\n",
       "      <td>TNES-Y565</td>\n",
       "      <td>697</td>\n",
       "      <td>2</td>\n",
       "      <td>1</td>\n",
       "      <td>14399</td>\n",
       "    </tr>\n",
       "    <tr>\n",
       "      <td>TNES-AI50</td>\n",
       "      <td>742</td>\n",
       "      <td>2</td>\n",
       "      <td>1</td>\n",
       "      <td>15908</td>\n",
       "    </tr>\n",
       "    <tr>\n",
       "      <td>...</td>\n",
       "      <td>...</td>\n",
       "      <td>...</td>\n",
       "      <td>...</td>\n",
       "      <td>...</td>\n",
       "    </tr>\n",
       "    <tr>\n",
       "      <td>TNES-AC93</td>\n",
       "      <td>518</td>\n",
       "      <td>6</td>\n",
       "      <td>1</td>\n",
       "      <td>15592</td>\n",
       "    </tr>\n",
       "    <tr>\n",
       "      <td>TNES-AF80</td>\n",
       "      <td>523</td>\n",
       "      <td>6</td>\n",
       "      <td>1</td>\n",
       "      <td>15700</td>\n",
       "    </tr>\n",
       "    <tr>\n",
       "      <td>TNES-AC97</td>\n",
       "      <td>679</td>\n",
       "      <td>6</td>\n",
       "      <td>1</td>\n",
       "      <td>15592</td>\n",
       "    </tr>\n",
       "    <tr>\n",
       "      <td>TNES-AF81</td>\n",
       "      <td>733</td>\n",
       "      <td>6</td>\n",
       "      <td>1</td>\n",
       "      <td>15700</td>\n",
       "    </tr>\n",
       "    <tr>\n",
       "      <td>TNES-AE35</td>\n",
       "      <td>743</td>\n",
       "      <td>6</td>\n",
       "      <td>1</td>\n",
       "      <td>15636</td>\n",
       "    </tr>\n",
       "  </tbody>\n",
       "</table>\n",
       "<p>229 rows × 4 columns</p>\n",
       "</div>"
      ],
      "text/plain": [
       "           durations  group  event   cage\n",
       "id                                       \n",
       "TNES-AH32        476      2      1  15904\n",
       "TNES-Y422        636      2      1  14399\n",
       "TNES-Y160        693      2      1  14320\n",
       "TNES-Y565        697      2      1  14399\n",
       "TNES-AI50        742      2      1  15908\n",
       "...              ...    ...    ...    ...\n",
       "TNES-AC93        518      6      1  15592\n",
       "TNES-AF80        523      6      1  15700\n",
       "TNES-AC97        679      6      1  15592\n",
       "TNES-AF81        733      6      1  15700\n",
       "TNES-AE35        743      6      1  15636\n",
       "\n",
       "[229 rows x 4 columns]"
      ]
     },
     "execution_count": 107,
     "metadata": {},
     "output_type": "execute_result"
    }
   ],
   "source": [
    "## If AL is Standard and DR is rapa intermittent\n",
    "df"
   ]
  },
  {
   "cell_type": "code",
   "execution_count": 108,
   "metadata": {},
   "outputs": [
    {
     "name": "stdout",
     "output_type": "stream",
     "text": [
      "\r",
      "Iteration 1: norm_delta = 0.54187, step_size = 0.9500, ll = -560.16905, newton_decrement = 16.32603, seconds_since_start = 0.0\r",
      "Iteration 2: norm_delta = 0.00530, step_size = 0.9500, ll = -544.47890, newton_decrement = 0.00157, seconds_since_start = 0.0\r",
      "Iteration 3: norm_delta = 0.00027, step_size = 0.9500, ll = -544.47734, newton_decrement = 0.00000, seconds_since_start = 0.0\r",
      "Iteration 4: norm_delta = 0.00001, step_size = 1.0000, ll = -544.47734, newton_decrement = 0.00000, seconds_since_start = 0.0Convergence completed after 4 iterations.\n"
     ]
    },
    {
     "data": {
      "text/plain": [
       "<Figure size 460.8x316.8 with 0 Axes>"
      ]
     },
     "metadata": {},
     "output_type": "display_data"
    }
   ],
   "source": [
    "# Comparison sw DR\n",
    "if study_sw == \"Rapamycin_intermittent\":\n",
    "    DRsw = df.loc[(df['group'].isin([3,2]))]\n",
    "    DRsw = DRsw.sort_values(by = \"group\", ascending = False)\n",
    "elif study_sw == \"Trametinib_high\":\n",
    "    DRsw = df.loc[(df['group'].isin([4,2]))]\n",
    "    DRsw = DRsw.sort_values(by = \"group\", ascending = False)\n",
    "elif study_sw == \"Rapamycin_continuous\":\n",
    "    DRsw = df.loc[(df['group'].isin([5,2]))]\n",
    "    DRsw = DRsw.sort_values(by = \"group\", ascending = False)\n",
    "elif study_sw == \"Trametinib_low\":\n",
    "    DRsw = df.loc[(df['group'].isin([6,2]))]\n",
    "    DRsw = DRsw.sort_values(by = \"group\", ascending = False)\n",
    "else:\n",
    "    DRsw = df.loc[(df[\"group\"].isin([1,2]))]\n",
    "    DRsw = DRsw.sort_values(by = \"group\", ascending = True)\n",
    "    \n",
    "\n",
    "DRsw = pd.get_dummies(DRsw, columns = [\"group\"])\n",
    "\n",
    "del DRsw[\"group_2\"]\n",
    "\n",
    "cph = CoxPHFitter()\n",
    "cph.fit(DRsw, duration_col = 'durations', event_col = 'event', show_progress = True)\n",
    "\n",
    "\n",
    "if run_type != \"dry\":\n",
    "    string = \"\\nPairwise COX sw vs RapaTram {}\".format(study_sw)\n",
    "    plt.savefig(\"{}cph_RapaInter_{}_{}.pdf\".format(cph_path, study_sw, new_day))\n",
    "    with open(\"{}{}\".format(\"./\", res_file), \"a\") as fi:\n",
    "        fi.write(string + \"\\n\")\n",
    "        c = cph.summary\n",
    "        c.to_string(fi)\n",
    "else:\n",
    "    cph.plot()\n",
    "    display(cph.summary)\n",
    "# Here we see no cage or diet differences\n",
    "\n",
    "## Store the object\n",
    "if study_sw == \"Rapamycin_intermittent\":\n",
    "    cphRTHRint = cph\n",
    "elif study_sw == \"Trametinib_high\":\n",
    "    cphRTTH = cph\n",
    "elif study_sw == \"Rapamycin_continuous\":\n",
    "    cphRTRC = cph\n",
    "elif study_sw == \"Trametinib_low\":\n",
    "    cphRTTL = cph\n",
    "else:\n",
    "    cphRTST = cph"
   ]
  },
  {
   "cell_type": "code",
   "execution_count": 109,
   "metadata": {},
   "outputs": [
    {
     "name": "stdout",
     "output_type": "stream",
     "text": [
      "\r",
      "Iteration 1: norm_delta = 0.59687, step_size = 0.9500, ll = -610.03739, newton_decrement = 21.08315, seconds_since_start = 0.0\r",
      "Iteration 2: norm_delta = 0.00858, step_size = 0.9500, ll = -589.84575, newton_decrement = 0.00272, seconds_since_start = 0.0\r",
      "Iteration 3: norm_delta = 0.00043, step_size = 0.9500, ll = -589.84303, newton_decrement = 0.00001, seconds_since_start = 0.0\r",
      "Iteration 4: norm_delta = 0.00002, step_size = 1.0000, ll = -589.84303, newton_decrement = 0.00000, seconds_since_start = 0.0Convergence completed after 4 iterations.\n"
     ]
    },
    {
     "data": {
      "text/plain": [
       "<Figure size 460.8x316.8 with 0 Axes>"
      ]
     },
     "metadata": {},
     "output_type": "display_data"
    }
   ],
   "source": [
    "# Comparison AL vs DR\n",
    "ALDR = df.loc[(df['group'].isin([2,1]))]\n",
    "ALDR = pd.get_dummies(ALDR, columns = [\"group\"])\n",
    "del ALDR[\"group_2\"]\n",
    "\n",
    "cph = CoxPHFitter()\n",
    "cph.fit(ALDR, duration_col = 'durations', event_col = 'event', show_progress = True)\n",
    "\n",
    "if run_type != \"dry\":\n",
    "    string = \"\\nPairwise COX Standard vs RapaTram\"\n",
    "    plt.savefig(\"{}cph_Standard_RapaTram_{}.pdf\".format(cph_path, new_day))\n",
    "    with open(\"{}{}\".format(\"./\", res_file), \"a\") as fi:\n",
    "        fi.write(string + \"\\n\")\n",
    "        c = cph.summary\n",
    "        c.to_string(fi)\n",
    "else:\n",
    "    cph.plot()\n",
    "    display(cph.summary)\n",
    "# Here we see no cage effect, and significant diet differences\n",
    "# Hazard ratio for diet is 1.00, p-val < 0.005 (Log-likelihood ratio test)"
   ]
  },
  {
   "cell_type": "code",
   "execution_count": 110,
   "metadata": {},
   "outputs": [
    {
     "name": "stdout",
     "output_type": "stream",
     "text": [
      "\r",
      "Iteration 1: norm_delta = 0.10306, step_size = 0.9500, ll = -686.06541, newton_decrement = 0.83863, seconds_since_start = 0.0\r",
      "Iteration 2: norm_delta = 0.00508, step_size = 0.9500, ll = -685.22964, newton_decrement = 0.00203, seconds_since_start = 0.0\r",
      "Iteration 3: norm_delta = 0.00026, step_size = 0.9500, ll = -685.22761, newton_decrement = 0.00001, seconds_since_start = 0.0\r",
      "Iteration 4: norm_delta = 0.00001, step_size = 1.0000, ll = -685.22761, newton_decrement = 0.00000, seconds_since_start = 0.0Convergence completed after 4 iterations.\n"
     ]
    },
    {
     "data": {
      "text/plain": [
       "<Figure size 460.8x316.8 with 0 Axes>"
      ]
     },
     "metadata": {},
     "output_type": "display_data"
    }
   ],
   "source": [
    "# Comparison AL sw\n",
    "\n",
    "if study_sw == \"Rapamycin_intermittent\":\n",
    "    DRsw = df.loc[(df['group'].isin([3,1]))]\n",
    "    DRsw = DRsw.sort_values(by = \"group\", ascending = False)\n",
    "elif study_sw == \"Trametinib_high\":\n",
    "    DRsw = df.loc[(df['group'].isin([4,1]))]\n",
    "    DRsw = DRsw.sort_values(by = \"group\", ascending = False)\n",
    "elif study_sw == \"Rapamycin_continuous\":\n",
    "    DRsw = df.loc[(df['group'].isin([5,1]))]\n",
    "    DRsw = DRsw.sort_values(by = \"group\", ascending = False)\n",
    "elif study_sw == \"Trametinib_low\":\n",
    "    DRsw = df.loc[(df['group'].isin([6,1]))]\n",
    "    DRsw = DRsw.sort_values(by = \"group\", ascending = False)\n",
    "else:\n",
    "    DRsw = df.loc[(df[\"group\"].isin([2,1]))]\n",
    "    DRsw = DRsw.sort_values(by = \"group\", ascending = False)\n",
    "DRsw = pd.get_dummies(DRsw, columns = [\"group\"])\n",
    "del DRsw[\"group_1\"]\n",
    "\n",
    "cph = CoxPHFitter()\n",
    "cph.fit(DRsw, duration_col = 'durations', event_col = 'event', show_progress = True)\n",
    "\n",
    "\n",
    "if run_type != \"dry\":\n",
    "    string = \"\\nPairwise COX SD vs sw{}\".format(study_sw)\n",
    "    plt.savefig(\"{}cph_SD_{}_{}.pdf\".format(cph_path, study_sw, new_day))\n",
    "    with open(\"{}{}\".format(\"./\", res_file), \"a\") as fi:\n",
    "        fi.write(string + \"\\n\")\n",
    "        c = cph.summary\n",
    "        c.to_string(fi)\n",
    "else:\n",
    "    cph.plot()\n",
    "    display(cph.summary)\n",
    "# Here we see no cage or diet differences\n",
    "\n",
    "## Store the object\n",
    "if study_sw == \"Rapamycin_intermittent\":\n",
    "    cphSDRI = cph\n",
    "elif study_sw == \"Trametinib_high\":\n",
    "    cphSDTH = cph\n",
    "elif study_sw == \"Rapamycin_continuous\":\n",
    "    cphSDRC = cph\n",
    "elif study_sw == \"Trametinib_low\":\n",
    "    cphSDTL = cph\n",
    "else:\n",
    "    cphSDRT = cph"
   ]
  },
  {
   "cell_type": "markdown",
   "metadata": {},
   "source": [
    "### Schoenfeld residuals"
   ]
  },
  {
   "cell_type": "code",
   "execution_count": 111,
   "metadata": {},
   "outputs": [
    {
     "name": "stdout",
     "output_type": "stream",
     "text": [
      "\r",
      "Iteration 1: norm_delta = 0.10665, step_size = 0.9500, ll = -1018.95850, newton_decrement = 0.99966, seconds_since_start = 0.0\r",
      "Iteration 2: norm_delta = 0.00165, step_size = 0.9500, ll = -1017.98281, newton_decrement = 0.00026, seconds_since_start = 0.0\r",
      "Iteration 3: norm_delta = 0.00008, step_size = 0.9500, ll = -1017.98255, newton_decrement = 0.00000, seconds_since_start = 0.0\r",
      "Iteration 4: norm_delta = 0.00000, step_size = 1.0000, ll = -1017.98255, newton_decrement = 0.00000, seconds_since_start = 0.0Convergence completed after 4 iterations.\n",
      "Proportional hazard assumption looks okay.\n"
     ]
    }
   ],
   "source": [
    "## Check diet effect\n",
    "\n",
    "cph = CoxPHFitter()\n",
    "cph.fit(df.loc[:, [\"durations\", \"group\", \"event\"]], duration_col = 'durations', \n",
    "        event_col = 'event', show_progress = True)\n",
    "\n",
    "if run_type != \"dry\":\n",
    "    string = \"\\nCheck diet effect in schoenfeld residuals\"\n",
    "    with open(\"{}{}\".format(\"./\", res_file), \"a\") as fi:\n",
    "        fi.write(string + \"\\n\")\n",
    "        c = cph.summary\n",
    "        c.to_string(fi)\n",
    "        fi.write(\"\\n\")\n",
    "        c = str(cph.check_assumptions(df.loc[:, [\"durations\", \"group\", \n",
    "                        \"event\"]], show_plots=True, p_value_threshold=0.05))\n",
    "        fi.write(c + \"\\n\\n\")\n",
    "else:\n",
    "    display(cph.summary)\n",
    "    cph.check_assumptions(df.loc[:, [\"durations\", \"group\", \"event\"]], show_plots=True, p_value_threshold=0.05)\n"
   ]
  },
  {
   "cell_type": "code",
   "execution_count": null,
   "metadata": {},
   "outputs": [],
   "source": []
  },
  {
   "cell_type": "code",
   "execution_count": null,
   "metadata": {},
   "outputs": [],
   "source": []
  },
  {
   "cell_type": "code",
   "execution_count": null,
   "metadata": {},
   "outputs": [],
   "source": []
  }
 ],
 "metadata": {
  "kernelspec": {
   "display_name": "Python 3",
   "language": "python",
   "name": "python3"
  },
  "language_info": {
   "codemirror_mode": {
    "name": "ipython",
    "version": 3
   },
   "file_extension": ".py",
   "mimetype": "text/x-python",
   "name": "python",
   "nbconvert_exporter": "python",
   "pygments_lexer": "ipython3",
   "version": "3.7.3"
  }
 },
 "nbformat": 4,
 "nbformat_minor": 2
}
